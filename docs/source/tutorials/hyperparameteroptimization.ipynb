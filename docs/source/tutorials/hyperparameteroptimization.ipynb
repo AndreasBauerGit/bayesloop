{
 "cells": [
  {
   "cell_type": "markdown",
   "metadata": {},
   "source": [
    "# Optimization of hyper-parameters\n",
    "\n",
    "The model evidence cannot only be used to compare different kinds of time series models, but also to optimize the hyper-parameters of a given transition model by maximizing its evidence value. The `Study` class of *bayesloop* contains a method `optimize` which relies on the `minimize` function of the `scipy.optimize` module. Since *bayesloop* has no gradient information about the hyper-parameters, the optimization routine is based on the [COBYLA](https://en.wikipedia.org/wiki/COBYLA) algorithm. The following two sections introduce the optimization of hyper-parameters using *bayesloop* and further describe how to selectively optimize specific hyper-parameters in nested transition models."
   ]
  },
  {
   "cell_type": "code",
   "execution_count": 1,
   "metadata": {
    "collapsed": false
   },
   "outputs": [
    {
     "name": "stdout",
     "output_type": "stream",
     "text": [
      "+ Created new study.\n",
      "+ Successfully imported example data.\n",
      "+ Observation model: Poisson. Parameter(s): ['accident rate']\n"
     ]
    }
   ],
   "source": [
    "%matplotlib inline\n",
    "import matplotlib.pyplot as plt # plotting\n",
    "import seaborn as sns           # nicer plots\n",
    "sns.set_style('whitegrid')      # plot styling\n",
    "\n",
    "import numpy as np\n",
    "import bayesloop as bl\n",
    "\n",
    "# prepare study for coal mining data\n",
    "S = bl.Study()\n",
    "S.loadExampleData()\n",
    "S.setObservationModel(bl.om.Poisson('accident rate', bl.oint(0, 6, 1000)))"
   ]
  },
  {
   "cell_type": "markdown",
   "metadata": {},
   "source": [
    "## Global optimization\n",
    "\n",
    "The `optimize` method supports all currently implemented transition models with continuous hyper-parameters, as well as combinations of multiple models. The change-point model as well as the serial transition model represent exceptions here, as their parameters `tChange` and `tBreak`, respectively, are discrete. These discrete pratemers are ignored by the optimization routine. See the [tutorial on change-point studies](changepointstudy.html) for further information on how to analyze structural breaks and change-points. By default, all continuous hyper-parameters of the transition model are optimized. *bayesloop* further allows to selectively optimize specific hyper-parameters, see [below](#Conditional-optimization-in-nested-transition-models). The parameter values set by the user when defining the transition model are used as starting values. During optimization, only the log-evidence of the model is computed. When finished, a full fit is done to provide the parameter distributions and mean values for the optimal model setting.\n",
    "\n",
    "We take up the coal mining example again, and stick with the serial transition model defined [here](modelselection.html#Serial-transition-model). This time, however, we optimize the slope of the linear decrease from 1885 to 1895 and the magnitude of the fluctuations afterwards (i.e. the standard deviation of the Gaussian random walk):"
   ]
  },
  {
   "cell_type": "code",
   "execution_count": 2,
   "metadata": {
    "collapsed": false
   },
   "outputs": [
    {
     "name": "stdout",
     "output_type": "stream",
     "text": [
      "+ Transition model: Serial transition model. Hyper-Parameter(s): ['slope', 'sigma', 't_1', 't_2']\n",
      "+ Starting optimization...\n",
      "  --> All model parameters are optimized (except change/break-points).\n",
      "    + Log10-evidence: -72.93384 - Parameter values: [-0.2  0.1]\n",
      "    + Log10-evidence: -96.81252 - Parameter values: [ 0.8  0.1]\n",
      "    + Log10-evidence: -75.18192 - Parameter values: [-0.2  1.1]\n",
      "    + Log10-evidence: -78.43877 - Parameter values: [-1.19559753  0.00626873]\n",
      "    + Log10-evidence: -78.80509 - Parameter values: [-0.69779877  0.05313437]\n",
      "    + Log10-evidence: -85.79404 - Parameter values: [ 0.04572939  0.05398839]\n",
      "    + Log10-evidence: -72.76628 - Parameter values: [-0.21058883  0.34977565]\n",
      "    + Log10-evidence: -73.72301 - Parameter values: [-0.33553394  0.34607154]\n",
      "    + Log10-evidence: -74.02943 - Parameter values: [-0.08663732  0.3659319 ]\n",
      "    + Log10-evidence: -73.17022 - Parameter values: [-0.14861308  0.35785378]\n",
      "    + Log10-evidence: -72.79393 - Parameter values: [-0.21462789  0.38076353]\n",
      "    + Log10-evidence: -72.92776 - Parameter values: [-0.27089564  0.33336413]\n",
      "    + Log10-evidence: -72.76915 - Parameter values: [-0.24074224  0.34156989]\n",
      "    + Log10-evidence: -72.76679 - Parameter values: [-0.20498306  0.33519087]\n",
      "    + Log10-evidence: -72.78617 - Parameter values: [-0.20460701  0.35480089]\n",
      "    + Log10-evidence: -72.75279 - Parameter values: [-0.21791489  0.347062  ]\n",
      "    + Log10-evidence: -72.74424 - Parameter values: [-0.21953173  0.33941864]\n",
      "    + Log10-evidence: -72.74031 - Parameter values: [-0.22648739  0.33586139]\n",
      "    + Log10-evidence: -72.73350 - Parameter values: [-0.22642717  0.32804913]\n",
      "    + Log10-evidence: -72.72784 - Parameter values: [-0.22747605  0.32030735]\n",
      "    + Log10-evidence: -72.72743 - Parameter values: [-0.23183807  0.313826  ]\n",
      "    + Log10-evidence: -72.72248 - Parameter values: [-0.22818709  0.31243706]\n",
      "    + Log10-evidence: -72.71753 - Parameter values: [-0.22205348  0.30759827]\n",
      "    + Log10-evidence: -72.72569 - Parameter values: [-0.21571672  0.31216781]\n",
      "    + Log10-evidence: -72.71235 - Parameter values: [-0.22363971  0.2999485 ]\n",
      "    + Log10-evidence: -72.70840 - Parameter values: [-0.22123414  0.29251557]\n",
      "    + Log10-evidence: -72.70418 - Parameter values: [-0.22439552  0.28537129]\n",
      "    + Log10-evidence: -72.70077 - Parameter values: [-0.22547625  0.2776339 ]\n",
      "    + Log10-evidence: -72.70450 - Parameter values: [-0.23171754  0.2729348 ]\n",
      "    + Log10-evidence: -72.70076 - Parameter values: [-0.21867277  0.27379362]\n",
      "    + Log10-evidence: -72.69810 - Parameter values: [-0.22058074  0.27038503]\n",
      "    + Log10-evidence: -72.69617 - Parameter values: [-0.2224925   0.26697858]\n",
      "    + Log10-evidence: -72.69482 - Parameter values: [-0.22372428  0.26327162]\n",
      "    + Log10-evidence: -72.69366 - Parameter values: [-0.22269705  0.25950286]\n",
      "    + Log10-evidence: -72.69256 - Parameter values: [-0.22373849  0.255738  ]\n",
      "    + Log10-evidence: -72.69157 - Parameter values: [-0.2233398   0.25185215]\n",
      "    + Log10-evidence: -72.69093 - Parameter values: [-0.22465019  0.24817225]\n",
      "    + Log10-evidence: -72.69026 - Parameter values: [-0.22230095  0.24505137]\n",
      "    + Log10-evidence: -72.68984 - Parameter values: [-0.22155855  0.24121632]\n",
      "    + Log10-evidence: -72.69200 - Parameter values: [-0.21792638  0.23977891]\n",
      "    + Log10-evidence: -72.68976 - Parameter values: [-0.22524306  0.23991896]\n",
      "    + Log10-evidence: -72.68944 - Parameter values: [-0.2249306   0.23799099]\n",
      "    + Log10-evidence: -72.68913 - Parameter values: [-0.22449406  0.23608727]\n",
      "    + Log10-evidence: -72.68891 - Parameter values: [-0.22415052  0.2341646 ]\n",
      "    + Log10-evidence: -72.68891 - Parameter values: [-0.22465387  0.23227745]\n",
      "    + Log10-evidence: -72.68873 - Parameter values: [-0.22367816  0.23223652]\n",
      "    + Log10-evidence: -72.68886 - Parameter values: [-0.22184677  0.23155776]\n",
      "    + Log10-evidence: -72.68877 - Parameter values: [-0.22341493  0.23317694]\n",
      "    + Log10-evidence: -72.68870 - Parameter values: [-0.22323996  0.23202113]\n",
      "    + Log10-evidence: -72.68870 - Parameter values: [-0.22291326  0.23165823]\n",
      "    + Log10-evidence: -72.68875 - Parameter values: [-0.22250844  0.23193124]\n",
      "    + Log10-evidence: -72.68867 - Parameter values: [-0.22322072  0.23127891]\n",
      "    + Log10-evidence: -72.68866 - Parameter values: [-0.22344227  0.23084378]\n",
      "    + Log10-evidence: -72.68864 - Parameter values: [-0.22319177  0.23042466]\n",
      "    + Log10-evidence: -72.68863 - Parameter values: [-0.22300139  0.22997502]\n",
      "    + Log10-evidence: -72.68862 - Parameter values: [-0.22340318  0.22969756]\n",
      "    + Log10-evidence: -72.68862 - Parameter values: [-0.22359843  0.22925002]\n",
      "    + Log10-evidence: -72.68864 - Parameter values: [-0.22362574  0.22979791]\n",
      "    + Log10-evidence: -72.68862 - Parameter values: [-0.22331126  0.22965818]\n",
      "    + Log10-evidence: -72.68862 - Parameter values: [-0.22321913  0.22961928]\n",
      "    + Log10-evidence: -72.68862 - Parameter values: [-0.22312139  0.22959815]\n",
      "    + Log10-evidence: -72.68862 - Parameter values: [-0.22319968  0.22966534]\n",
      "    + Log10-evidence: -72.68862 - Parameter values: [-0.22319262  0.22952285]\n",
      "    + Log10-evidence: -72.68861 - Parameter values: [-0.22320182  0.22942328]\n",
      "    + Log10-evidence: -72.68861 - Parameter values: [-0.22319833  0.22932334]\n",
      "    + Log10-evidence: -72.68861 - Parameter values: [-0.22324289  0.22923382]\n",
      "    + Log10-evidence: -72.68861 - Parameter values: [-0.22322927  0.22913475]\n",
      "    + Log10-evidence: -72.68861 - Parameter values: [-0.22322709  0.22903477]\n",
      "    + Log10-evidence: -72.68860 - Parameter values: [-0.22326426  0.22894194]\n",
      "    + Log10-evidence: -72.68860 - Parameter values: [-0.22322328  0.22885071]\n",
      "    + Log10-evidence: -72.68860 - Parameter values: [-0.22319605  0.22875449]\n",
      "    + Log10-evidence: -72.68860 - Parameter values: [-0.22322886  0.22866003]\n",
      "    + Log10-evidence: -72.68860 - Parameter values: [-0.22321891  0.22856053]\n",
      "    + Log10-evidence: -72.68860 - Parameter values: [-0.22322983  0.22846113]\n",
      "    + Log10-evidence: -72.68860 - Parameter values: [-0.22316925  0.22855468]\n",
      "    + Log10-evidence: -72.68860 - Parameter values: [-0.22324084  0.22846296]\n",
      "+ Finished optimization.\n",
      "+ Started new fit:\n",
      "    + Formatted data.\n",
      "    + Set prior (function): jeffreys. Values have been re-normalized.\n",
      "\n",
      "    + Finished forward pass.\n",
      "    + Log10-evidence: -72.68860\n",
      "\n",
      "    + Finished backward pass.\n",
      "    + Computed mean parameter values.\n"
     ]
    },
    {
     "data": {
      "image/png": "[encoded data removed]",
      "text/plain": [
       "<matplotlib.figure.Figure at 0xcb1b8d0>"
      ]
     },
     "metadata": {},
     "output_type": "display_data"
    }
   ],
   "source": [
    "# define linear decrease transition model\n",
    "def linear(t, slope=-0.2):\n",
    "    return slope*t\n",
    "\n",
    "T = bl.tm.SerialTransitionModel(bl.tm.Static(),\n",
    "                                bl.tm.BreakPoint('t_1', 1885),\n",
    "                                bl.tm.Deterministic(linear, target='accident rate'),\n",
    "                                bl.tm.BreakPoint('t_2', 1895),\n",
    "                                bl.tm.GaussianRandomWalk('sigma', 0.1, target='accident rate'))\n",
    "S.setTransitionModel(T)\n",
    "\n",
    "S.optimize()\n",
    "\n",
    "plt.figure(figsize=(8, 4))\n",
    "plt.bar(S.rawTimestamps, S.rawData, align='center', facecolor='r', alpha=.5)\n",
    "S.plotParameterEvolution('accident rate')\n",
    "plt.xlim([1851, 1962])\n",
    "plt.xlabel('year');"
   ]
  },
  {
   "cell_type": "markdown",
   "metadata": {},
   "source": [
    "The optimal value for the standard deviation of the varying disaster rate is determined to be $\\approx 0.23$, the initial guess of $\\sigma = 0.1$ is therefore too restrictive. The value of the slope is only optimized slightly, resulting in an optimal value of $\\approx -0.22$. The optimal hyper-parameter values are displayed in the output during optimization, but can also be inspected directly:"
   ]
  },
  {
   "cell_type": "code",
   "execution_count": 3,
   "metadata": {
    "collapsed": false
   },
   "outputs": [
    {
     "name": "stdout",
     "output_type": "stream",
     "text": [
      "slope = -0.223240841019\n",
      "sigma = 0.228462963962\n"
     ]
    }
   ],
   "source": [
    "print 'slope =', S.getHyperParameterValue('slope')\n",
    "print 'sigma =', S.getHyperParameterValue('sigma')"
   ]
  },
  {
   "cell_type": "markdown",
   "metadata": {},
   "source": [
    "## Conditional optimization in nested transition models\n",
    "\n",
    "The previous section introduced the `optimize` method of the `Study` class. By default, all (continuous) hyper-parameters of the chosen transition model are optimized. In some applications, however, only specific hyper-parameters may be subject to optimization. Therefore, a list of parameter names (or a single name) may be passed to `optimize`, specifying which parameters to optmize. Note that all hyper-parameters have to be given a unique name. An example for a (quite ridiculously) nested transition model is defined below. Note that the deterministic transition models are defined via `lambda` functions."
   ]
  },
  {
   "cell_type": "code",
   "execution_count": 4,
   "metadata": {
    "collapsed": false
   },
   "outputs": [
    {
     "name": "stdout",
     "output_type": "stream",
     "text": [
      "+ Transition model: Serial transition model. Hyper-Parameter(s): ['early_sigma', 'pmin', 'slope_1', 'late_sigma', 'slope_2', 'first_break', 'second_break']\n"
     ]
    }
   ],
   "source": [
    "T = bl.tm.SerialTransitionModel(bl.tm.CombinedTransitionModel(\n",
    "                                    bl.tm.GaussianRandomWalk('early_sigma', 0.05, target='accident rate'),\n",
    "                                    bl.tm.RegimeSwitch('pmin', -7)\n",
    "                                    ),\n",
    "                                bl.tm.BreakPoint('first_break', 1885),\n",
    "                                bl.tm.Deterministic(lambda t, slope_1=-0.2: slope_1*t, target='accident rate'),\n",
    "                                bl.tm.BreakPoint('second_break', 1895),\n",
    "                                bl.tm.CombinedTransitionModel(\n",
    "                                    bl.tm.GaussianRandomWalk('late_sigma', 0.25, target='accident rate'),\n",
    "                                    bl.tm.Deterministic(lambda t, slope_2=0.0: slope_2*t, target='accident rate')\n",
    "                                    )\n",
    "                                )\n",
    "S.setTransitionModel(T)"
   ]
  },
  {
   "cell_type": "markdown",
   "metadata": {},
   "source": [
    "This transition model assumes a combination of gradual and abrupt changes until 1885, followed by a deterministic decrease of the annual disaster rate until 1895. Afterwards, the disaster rate is modeled by a combination of a decreasing trend and random fluctuations. Instead of discussing exactly how meaningful the proposed transition model really is, we focus on how to specify different (groups of) hyper-parameters that we might want to optimize.\n",
    "\n",
    "All hyper-parameter names occur only once within the transition model and may simply be stated by their name: `S.optimize('pmin')`. Note that you may also pass a single or multiple hyper-parameter(s) as a list: `S.optimize(['pmin'])`, `S.optimize(['pmin', 'slope_2'])`. For deterministic models, the argument name also represents the hyper-parameter name:"
   ]
  },
  {
   "cell_type": "code",
   "execution_count": 5,
   "metadata": {
    "collapsed": false
   },
   "outputs": [
    {
     "name": "stdout",
     "output_type": "stream",
     "text": [
      "+ Starting optimization...\n",
      "  --> Parameter(s) to optimize: ['slope_2']\n",
      "    + Log10-evidence: -72.78352 - Parameter values: [ 0.]\n",
      "    + Log10-evidence: -93.84882 - Parameter values: [ 1.]\n",
      "    + Log10-evidence: -80.98325 - Parameter values: [-1.]\n",
      "    + Log10-evidence: -85.81409 - Parameter values: [-0.5]\n",
      "    + Log10-evidence: -82.83302 - Parameter values: [ 0.25]\n",
      "    + Log10-evidence: -73.27797 - Parameter values: [-0.125]\n",
      "    + Log10-evidence: -74.00209 - Parameter values: [ 0.0625]\n",
      "    + Log10-evidence: -72.56560 - Parameter values: [-0.03125]\n",
      "    + Log10-evidence: -72.59014 - Parameter values: [-0.0625]\n",
      "    + Log10-evidence: -72.54880 - Parameter values: [-0.046875]\n",
      "    + Log10-evidence: -72.59014 - Parameter values: [-0.0625]\n",
      "    + Log10-evidence: -72.56237 - Parameter values: [-0.0546875]\n",
      "    + Log10-evidence: -72.54744 - Parameter values: [-0.04296875]\n",
      "    + Log10-evidence: -72.54976 - Parameter values: [-0.0390625]\n",
      "    + Log10-evidence: -72.54814 - Parameter values: [-0.04101562]\n",
      "    + Log10-evidence: -72.54744 - Parameter values: [-0.04394531]\n",
      "    + Log10-evidence: -72.54752 - Parameter values: [-0.04443359]\n",
      "    + Log10-evidence: -72.54742 - Parameter values: [-0.04370117]\n",
      "    + Log10-evidence: -72.54741 - Parameter values: [-0.04345703]\n",
      "    + Log10-evidence: -72.54742 - Parameter values: [-0.04321289]\n",
      "    + Log10-evidence: -72.54741 - Parameter values: [-0.04335703]\n",
      "    + Log10-evidence: -72.54741 - Parameter values: [-0.04355703]\n",
      "+ Finished optimization.\n",
      "+ Started new fit:\n",
      "    + Formatted data.\n",
      "    + Set prior (function): jeffreys. Values have been re-normalized.\n",
      "\n",
      "    + Finished forward pass.\n",
      "    + Log10-evidence: -72.54741\n",
      "\n",
      "    + Finished backward pass.\n",
      "    + Computed mean parameter values.\n"
     ]
    }
   ],
   "source": [
    "S.optimize(['slope_2'])"
   ]
  },
  {
   "cell_type": "markdown",
   "metadata": {},
   "source": [
    "Although the optimization of hyper-parameters helps to objectify the choice of hyper-parameter values and may even be used to gain new insights into the dynamics of systems, optimization alone does not provide any measure of uncertainty tied to the obtained, optimal hyper-parameter value. [The next tutorial](hyperstudy.html) discusses an approach to infer not only the time-varying parameter distributions, but also the distribution of hyper-parameters."
   ]
  }
 ],
 "metadata": {
  "anaconda-cloud": {},
  "kernelspec": {
   "display_name": "Python 2",
   "language": "python",
   "name": "python2"
  },
  "language_info": {
   "codemirror_mode": {
    "name": "ipython",
    "version": 2
   },
   "file_extension": ".py",
   "mimetype": "text/x-python",
   "name": "python",
   "nbconvert_exporter": "python",
   "pygments_lexer": "ipython2",
   "version": "2.7.11"
  }
 },
 "nbformat": 4,
 "nbformat_minor": 0
}
