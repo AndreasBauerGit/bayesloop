{
 "cells": [
  {
   "cell_type": "markdown",
   "metadata": {},
   "source": [
    "# Prior distributions\n",
    "\n",
    "One important aspect of Bayesian inference has not yet been discussed in this tutorial: [prior distributions](https://en.wikipedia.org/wiki/Prior_probability). In Bayesian statistics, one has to provide probability (density) values for every possible parameter value *before* taking into account the data at hand. This prior distribution thus reflects all *prior* knowledge of the system that is to be investigated. In the case that no prior knowledge is available, a *non-informative* prior in the form of the so-called [Jeffreys prior](https://en.wikipedia.org/wiki/Jeffreys_prior) allows to minimize the effect of the prior on the results. The next two sub-sections discuss how one can set custom prior distributions for the parameters of the observation model and for hyper-parameters in a hyper-study or change-point study."
   ]
  },
  {
   "cell_type": "code",
   "execution_count": 1,
   "metadata": {
    "collapsed": false
   },
   "outputs": [
    {
     "name": "stdout",
     "output_type": "stream",
     "text": [
      "+ Created new study.\n",
      "+ Successfully imported example data.\n"
     ]
    }
   ],
   "source": [
    "%matplotlib inline\n",
    "import matplotlib.pyplot as plt # plotting\n",
    "import seaborn as sns           # nicer plots\n",
    "sns.set_style('whitegrid')      # plot styling\n",
    "\n",
    "import numpy as np\n",
    "import bayesloop as bl\n",
    "\n",
    "# prepare study for coal mining data\n",
    "S = bl.Study()\n",
    "S.loadExampleData()"
   ]
  },
  {
   "cell_type": "markdown",
   "metadata": {},
   "source": [
    "## Parameter prior\n",
    "\n",
    "*bayesloop* employs a forward-backward algorithm that is based on [Hidden Markov models](http://www.cs.sjsu.edu/~stamp/RUA/HMM.pdf). This inference algorithm iteratively produces a parameter distribution for each time step, but it has to start these iterations from a specified probability distribution - the parameter prior. All built-in observation models already have a pre-defined prior, stored in the attribute `prior`. Here, the prior distribution is stored as a Python function that takes as many arguments as there are parameters in the observation model. The prior distributions can be looked up directly within `observationModels.py`. For the `Poisson` model discussed in this tutorial, the default prior distribution is defined in a method called `jeffreys` as\n",
    "```\n",
    "def jeffreys(x):\n",
    "    return np.sqrt(1. / x)\n",
    "```\n",
    "corresponding to the non-informative Jeffreys prior, $p(\\lambda) \\propto 1/\\sqrt{\\lambda}$. This type of prior can also be determined automatically for arbitrary user-defined observation models, see [here](customobservationmodels.html#Sympy.stats-random-variables).\n",
    "\n",
    "### Prior functions and arrays\n",
    "\n",
    "To change the predefined prior of a given observation model, one can add the keyword argument `prior` when defining an observation model. There are different ways of defining a parameter prior in *bayesloop*: If `prior=None` is set, *bayesloop* will assign equal probability to all parameter values, resulting in a uniform prior distribution within the specified parameter boundaries. One can also directly supply a Numpy array with prior probability (density) values. The shape of the array must match the shape of the parameter grid! Another way to define a custom prior is to provide a function that takes exactly as many arguments as there are parameters in the defined observation model. *bayesloop* will then evaluate the function for all parameter values and assign the corresponding probability values.\n",
    "\n",
    "<div style=\"background-color: #e7f2fa; border-left: 5px solid #6ab0de; padding: 0.5em;\"/>\n",
    "**Note:** In all of the cases described above, *bayesloop* will re-normalize the provided prior values, so they do not need to be passed in a normalized form. Below, we describe the possibility of using probability distributions from the SymPy stats module as prior distributions, which are not re-normalized by *bayesloop*."
   ]
  },
  {
   "cell_type": "markdown",
   "metadata": {},
   "source": [
    "Next, we illustrate the difference between the Jeffreys prior and a flat, uniform prior with a very simple inference example: We fit the coal mining example data set using the `Poisson` observation model and further assume the rate parameter to be static:"
   ]
  },
  {
   "cell_type": "code",
   "execution_count": 2,
   "metadata": {
    "collapsed": false
   },
   "outputs": [
    {
     "name": "stdout",
     "output_type": "stream",
     "text": [
      "+ Transition model: Static/constant parameter values. Hyper-Parameter(s): []\n",
      "Fit with built-in Jeffreys prior:\n",
      "+ Observation model: Poisson. Parameter(s): ['accident rate']\n",
      "+ Started new fit:\n",
      "    + Formatted data.\n",
      "    + Set prior (function): jeffreys. Values have been re-normalized.\n",
      "\n",
      "    + Finished forward pass.\n",
      "    + Log10-evidence: -88.00564\n",
      "\n",
      "    + Finished backward pass.\n",
      "    + Computed mean parameter values.\n",
      "-----\n",
      "\n",
      "Fit with custom flat prior:\n",
      "+ Observation model: Poisson. Parameter(s): ['accident rate']\n",
      "+ Started new fit:\n",
      "    + Formatted data.\n",
      "    + Set prior (function): <lambda>. Values have been re-normalized.\n",
      "\n",
      "    + Finished forward pass.\n",
      "    + Log10-evidence: -87.98915\n",
      "\n",
      "    + Finished backward pass.\n",
      "    + Computed mean parameter values.\n"
     ]
    }
   ],
   "source": [
    "# we assume a static rate parameter for simplicity\n",
    "S.setTransitionModel(bl.tm.Static())\n",
    "\n",
    "print 'Fit with built-in Jeffreys prior:'\n",
    "S.setObservationModel(bl.om.Poisson('accident rate', \n",
    "                                    bl.oint(0, 6, 1000)))\n",
    "S.fit()\n",
    "jeffreys_mean = S.getParameterMeanValues('accident rate')[0]\n",
    "print('-----\\n')\n",
    "                      \n",
    "print 'Fit with custom flat prior:'\n",
    "S.setObservationModel(bl.om.Poisson('accident rate', \n",
    "                                    bl.oint(0, 6, 1000), \n",
    "                                    prior=lambda x: 1.))\n",
    "# alternatives: prior=None, prior=np.ones(1000)\n",
    "S.fit()\n",
    "flat_mean = S.getParameterMeanValues('accident rate')[0]"
   ]
  },
  {
   "cell_type": "markdown",
   "metadata": {},
   "source": [
    "First note that the model evidence indeed slightly changes due to the different choices of the parameter prior. Second, one may notice that the posterior mean value of the flat-prior-fit does not exactly match the arithmetic mean of the data. This small deviation shows that a flat/uniform prior is not completely non-informative for a Poisson model! The fit using the Jeffreys prior, however, succeeds in reproducing the *frequentist* estimate, i.e. the arithmetic mean:"
   ]
  },
  {
   "cell_type": "code",
   "execution_count": 3,
   "metadata": {
    "collapsed": false
   },
   "outputs": [
    {
     "name": "stdout",
     "output_type": "stream",
     "text": [
      "arithmetic mean     = 1.69090909091\n",
      "flat-prior mean     = 1.7\n",
      "Jeffreys prior mean = 1.69090909091\n"
     ]
    }
   ],
   "source": [
    "print('arithmetic mean     = {}'.format(np.mean(S.rawData)))\n",
    "print('flat-prior mean     = {}'.format(flat_mean))\n",
    "print('Jeffreys prior mean = {}'.format(jeffreys_mean))"
   ]
  },
  {
   "cell_type": "markdown",
   "metadata": {},
   "source": [
    "### SymPy prior\n",
    "\n",
    "The second option is based on the [SymPy](http://www.sympy.org/en/index.html) module that introduces symbolic mathematics to Python. Its sub-module [sympy.stats](http://docs.sympy.org/dev/modules/stats.html) covers a wide range of discrete and continuous random variables. The keyword argument `prior` also accepts a list of `sympy.stats` random variables, one for each parameter (if there is only one parameter, the list can be omitted). The multiplicative joint probability density of these random variables is then used as the prior distribution. The following example defines an exponential prior for the `Poisson` model, favoring small values of the rate parameter: "
   ]
  },
  {
   "cell_type": "code",
   "execution_count": 4,
   "metadata": {
    "collapsed": false
   },
   "outputs": [
    {
     "name": "stdout",
     "output_type": "stream",
     "text": [
      "+ Observation model: Poisson. Parameter(s): ['accident rate']\n",
      "+ Started new fit:\n",
      "    + Formatted data.\n",
      "    + Set prior (sympy): exp(-x)\n",
      "\n",
      "    + Finished forward pass.\n",
      "    + Log10-evidence: -87.94640\n",
      "\n",
      "    + Finished backward pass.\n",
      "    + Computed mean parameter values.\n"
     ]
    }
   ],
   "source": [
    "import sympy.stats\n",
    "S.setObservationModel(bl.om.Poisson('accident rate', \n",
    "                                    bl.oint(0, 6, 1000), \n",
    "                                    prior=sympy.stats.Exponential('expon', 1)))\n",
    "S.fit()"
   ]
  },
  {
   "cell_type": "markdown",
   "metadata": {},
   "source": [
    "Note that one needs to assign a name to each `sympy.stats` variable. In this case, the output of *bayesloop* shows the mathematical formula that defines the prior. This is possible because of the symbolic representation of the prior by `SymPy`.\n",
    "\n",
    "<div style=\"background-color: #e7f2fa; border-left: 5px solid #6ab0de; padding: 0.5em;\"/>\n",
    "**Note:** The support interval of a prior distribution defined via SymPy can deviate from the parameter interval specified in *bayesloop*. In the example above, we specified the parameter interval ]0, 6[, while the exponential prior has the support ]0, $\\infty$[. SymPy priors are not re-normalized with respect to the specified parameter interval. Be aware that the resulting model evidence value will only be correct if no parameter values outside of the parameter boundaries gain significant probability values. In most cases, one can simply check whether the parameter distribution has sufficiently *fallen off* at the parameter boundaries."
   ]
  },
  {
   "cell_type": "markdown",
   "metadata": {},
   "source": [
    "## Hyper-parameter priors\n",
    "\n",
    "As shown before, [hyper-studies](hyperstudy.html) and [change-point studies](changepointstudy.html) can be used to determine the full distribution of hyper-parameters (the parameters of the transition model). As for the time-varying parameters of the observation model, one might have prior knowledge about the values of certain hyper-parameters that can be included into the study to refine the resulting distribution of these hyper-parameters. Hyper-parameter priors can be defined just as regular priors, either by an arbitrary function or by a list of `sympy.stats` random variables.\n",
    "\n",
    "In a first example, we return to the simple change-point model of the coal-mining data set and perform to fits of the change-point: first, we specify no hyper-prior for the time step of our change-point, assuming equal probability for each year in our data set. Second, we define a Normal distribution around the year 1920 with a (rather unrealistic) standard deviation of 5 years as the hyper-prior using a SymPy random variable. For both fits, we plot the change-point distribution to show the differences induced by the different priors:"
   ]
  },
  {
   "cell_type": "code",
   "execution_count": 5,
   "metadata": {
    "collapsed": false
   },
   "outputs": [
    {
     "name": "stdout",
     "output_type": "stream",
     "text": [
      "Fit with flat hyper-prior:\n",
      "+ Created new study.\n",
      "  --> Hyper-study\n",
      "  --> Change-point analysis\n",
      "+ Successfully imported example data.\n",
      "+ Observation model: Poisson. Parameter(s): ['accident rate']\n",
      "+ Transition model: Change-point. Hyper-Parameter(s): ['tChange']\n",
      "+ Detected 1 change-point(s) in transition model: ['tChange']\n",
      "+ Set hyper-prior(s): ['uniform']\n",
      "+ Started new fit.\n",
      "    + 109 analyses to run.\n",
      "\n",
      "    + Computed average posterior sequence\n",
      "    + Computed hyper-parameter distribution\n",
      "    + Log10-evidence of average model: -75.71555\n",
      "    + Computed local evidence of average model\n",
      "    + Computed mean parameter values.\n",
      "+ Finished fit.\n"
     ]
    },
    {
     "data": {
      "image/png": "[encoded data removed]",
      "text/plain": [
       "<matplotlib.figure.Figure at 0xc64bbe0>"
      ]
     },
     "metadata": {},
     "output_type": "display_data"
    },
    {
     "name": "stdout",
     "output_type": "stream",
     "text": [
      "-----\n",
      "\n",
      "Fit with custom normal prior:\n",
      "+ Transition model: Change-point. Hyper-Parameter(s): ['tChange']\n",
      "+ Detected 1 change-point(s) in transition model: ['tChange']\n",
      "+ Set hyper-prior(s): ['sqrt(2)*exp(-(x - 1920)**2/50)/(10*sqrt(pi))']\n",
      "+ Started new fit.\n",
      "    + 109 analyses to run.\n",
      "\n",
      "    + Computed average posterior sequence\n",
      "    + Computed hyper-parameter distribution\n",
      "    + Log10-evidence of average model: -80.50692\n",
      "    + Computed local evidence of average model\n",
      "    + Computed mean parameter values.\n",
      "+ Finished fit.\n"
     ]
    },
    {
     "data": {
      "image/png": "[encoded data removed]",
      "text/plain": [
       "<matplotlib.figure.Figure at 0xcfc32b0>"
      ]
     },
     "metadata": {},
     "output_type": "display_data"
    }
   ],
   "source": [
    "print 'Fit with flat hyper-prior:'\n",
    "S = bl.ChangepointStudy()\n",
    "S.loadExampleData()\n",
    "S.setObservationModel(bl.om.Poisson('accident rate', bl.oint(0, 6, 1000)))\n",
    "S.setTransitionModel(bl.tm.ChangePoint('tChange', 'all'))\n",
    "S.fit()\n",
    "\n",
    "plt.figure(figsize=(8,4))\n",
    "S.getHyperParameterDistribution('tChange', plot=True, facecolor='g', alpha=0.7)\n",
    "plt.xlim([1870, 1930])\n",
    "plt.show()\n",
    "print('-----\\n')\n",
    "                      \n",
    "print 'Fit with custom normal prior:'\n",
    "S.setTransitionModel(bl.tm.ChangePoint('tChange', 'all', prior=sympy.stats.Normal('norm', 1920, 5)))\n",
    "S.fit()\n",
    "\n",
    "plt.figure(figsize=(8,4))\n",
    "S.getHyperParameterDistribution('tChange', plot=True, facecolor='g', alpha=0.7)\n",
    "plt.xlim([1870, 1930]);"
   ]
  },
  {
   "cell_type": "markdown",
   "metadata": {},
   "source": [
    "Since we used a quite narrow prior (containing a lot of information) in the second case, the resulting distribution is strongly shifted towards the prior. The following example revisits the two break-point-model from [here](changepointstudy.html#Analyzing-structural-breaks-in-time-series-models) and a linear decrease with a varying slope as a hyper-parameter. Here, we define a Gaussian prior for the slope hyper-parameter, which is centered around the value -0.2 with a standard deviation of 0.4, via a lambda-function. For simplification, we set the break-points to fixed years."
   ]
  },
  {
   "cell_type": "code",
   "execution_count": 6,
   "metadata": {
    "collapsed": false
   },
   "outputs": [
    {
     "name": "stdout",
     "output_type": "stream",
     "text": [
      "+ Created new study.\n",
      "  --> Hyper-study\n",
      "+ Successfully imported example data.\n",
      "+ Observation model: Poisson. Parameter(s): ['accident rate']\n",
      "+ Transition model: Serial transition model. Hyper-Parameter(s): ['slope', 't_1', 't_2']\n",
      "+ Set hyper-prior(s): ['<lambda> (re-normalized)', 'uniform', 'uniform']\n",
      "+ Started new fit.\n",
      "    + 30 analyses to run.\n",
      "\n",
      "    + Computed average posterior sequence\n",
      "    + Computed hyper-parameter distribution\n",
      "    + Log10-evidence of average model: -74.84129\n",
      "    + Computed local evidence of average model\n",
      "    + Computed mean parameter values.\n",
      "+ Finished fit.\n"
     ]
    }
   ],
   "source": [
    "S = bl.HyperStudy()\n",
    "S.loadExampleData()\n",
    "S.setObservationModel(bl.om.Poisson('accident rate', bl.oint(0, 6, 1000)))\n",
    "\n",
    "T = bl.tm.SerialTransitionModel(bl.tm.Static(),\n",
    "                                bl.tm.BreakPoint('t_1', 1880),\n",
    "                                bl.tm.Deterministic(lambda t, slope=np.linspace(-2.0, 0.0, 30): t*slope, \n",
    "                                                    target='accident rate',\n",
    "                                                    prior=lambda slope: np.exp(-0.5*((slope + 0.2)/(2*0.4))**2)/0.4),\n",
    "                                bl.tm.BreakPoint('t_2', 1900),\n",
    "                                bl.tm.Static()\n",
    "                                )\n",
    "S.setTransitionModel(T)\n",
    "S.fit()"
   ]
  },
  {
   "cell_type": "markdown",
   "metadata": {},
   "source": [
    "Finally, note that you can mix SymPy- and function-based hyper-priors for nested transition models."
   ]
  }
 ],
 "metadata": {
  "anaconda-cloud": {},
  "kernelspec": {
   "display_name": "Python 2",
   "language": "python",
   "name": "python2"
  },
  "language_info": {
   "codemirror_mode": {
    "name": "ipython",
    "version": 2
   },
   "file_extension": ".py",
   "mimetype": "text/x-python",
   "name": "python",
   "nbconvert_exporter": "python",
   "pygments_lexer": "ipython2",
   "version": "2.7.11"
  }
 },
 "nbformat": 4,
 "nbformat_minor": 0
}
