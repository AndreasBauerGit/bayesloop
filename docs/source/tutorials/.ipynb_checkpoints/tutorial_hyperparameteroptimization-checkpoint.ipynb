{
 "cells": [
  {
   "cell_type": "markdown",
   "metadata": {},
   "source": [
    "# Optimization of hyper-parameters\n",
    "\n",
    "The model evidence cannot only be used to compare different kinds of time series models, but also to optimize the hyper-parameters of a given transition model by maximizing its evidence value. The `Study` class of *bayesloop* contains a method `optimize` which relies on the `minimize` function of the `scipy.optimize` module. Since *bayesloop* has no gradient information about the hyper-parameters, the optimization routine is based on the [COBYLA](https://en.wikipedia.org/wiki/COBYLA) algorithm. The following two sections introduce the optimization of hyper-parameters using *bayesloop* and further describe how to selectively optimize specific hyper-parameters in nested transition models."
   ]
  },
  {
   "cell_type": "code",
   "execution_count": 1,
   "metadata": {
    "collapsed": false
   },
   "outputs": [
    {
     "name": "stderr",
     "output_type": "stream",
     "text": [
      "C:\\Anaconda\\lib\\site-packages\\matplotlib\\__init__.py:872: UserWarning: axes.color_cycle is deprecated and replaced with axes.prop_cycle; please use the latter.\n",
      "  warnings.warn(self.msg_depr % (key, alt_key))\n"
     ]
    },
    {
     "name": "stdout",
     "output_type": "stream",
     "text": [
      "+ Created new study.\n",
      "+ Successfully imported example data.\n",
      "+ Observation model: Poisson. Parameter(s): ['lambda']\n",
      "+ Boundaries: [[0, 6]]\n",
      "+ Grid size: [1000]\n"
     ]
    }
   ],
   "source": [
    "%matplotlib inline\n",
    "import matplotlib.pyplot as plt # plotting\n",
    "import seaborn as sns           # nicer plots\n",
    "sns.set_style('whitegrid')      # plot styling\n",
    "\n",
    "import numpy as np\n",
    "import bayesloop as bl\n",
    "\n",
    "# prepare study for coal mining data\n",
    "S = bl.Study()\n",
    "S.loadExampleData()\n",
    "S.setObservationModel(bl.om.Poisson())\n",
    "S.setGrid([[0, 6, 1000]])"
   ]
  },
  {
   "cell_type": "markdown",
   "metadata": {},
   "source": [
    "## 1. Global optimization\n",
    "\n",
    "The `optimize` method supports all currently implemented transition models with continuous hyper-parameters, as well as combinations of multiple models. The change-point model as well as the serial transition model represent exceptions here, as their parameters `tChange` and `tBreak`, respectively, are discrete. These discrete pratemers are ignored by the optimization routine. See XX5 for further information on how to analyze structural breaks and change-points. By default, all continuous hyper-parameters of the transition model are optimized. *bayesloop* further allows to selectively optimize specific hyper-parameters, see XX3.2. The parameter values set by the user when defining the transition model are used as starting values. During optimization, only the log-evidence of the model is computed. When finished, a full fit is done to provide the parameter distributions and mean values for the optimal model setting.\n",
    "\n",
    "We take up the coal mining example again, and stick with the serial transition model defined in XX2.3. This time, however, we optimize the slope of the linear decrease from 1885 to 1895 and the magnitude of the fluctuations afterwards (i.e. the standard deviation of the Gaussian random walk):"
   ]
  },
  {
   "cell_type": "code",
   "execution_count": 2,
   "metadata": {
    "collapsed": false
   },
   "outputs": [
    {
     "name": "stdout",
     "output_type": "stream",
     "text": [
      "+ Transition model: Serial transition model\n",
      "+ Starting optimization...\n",
      "  --> All model parameters are optimized (except change/break-points).\n",
      "    + Log10-evidence: -75.15612 - Parameter values: [-0.2  0.1]\n",
      "    + Log10-evidence: -99.03480 - Parameter values: [ 0.8  0.1]\n",
      "    + Log10-evidence: -77.40420 - Parameter values: [-0.2  1.1]\n",
      "    + Log10-evidence: -80.66105 - Parameter values: [-1.19559753  0.00626873]\n",
      "    + Log10-evidence: -81.02737 - Parameter values: [-0.69779877  0.05313437]\n",
      "    + Log10-evidence: -88.01633 - Parameter values: [ 0.04572939  0.05398839]\n",
      "    + Log10-evidence: -74.98856 - Parameter values: [-0.21058883  0.34977565]\n",
      "    + Log10-evidence: -75.94529 - Parameter values: [-0.33553394  0.34607154]\n",
      "    + Log10-evidence: -76.25171 - Parameter values: [-0.08663732  0.3659319 ]\n",
      "    + Log10-evidence: -75.39250 - Parameter values: [-0.14861308  0.35785378]\n",
      "    + Log10-evidence: -75.01622 - Parameter values: [-0.21462789  0.38076353]\n",
      "    + Log10-evidence: -75.15004 - Parameter values: [-0.27089564  0.33336413]\n",
      "    + Log10-evidence: -74.99143 - Parameter values: [-0.24074224  0.34156989]\n",
      "    + Log10-evidence: -74.98907 - Parameter values: [-0.20498306  0.33519087]\n",
      "    + Log10-evidence: -75.00846 - Parameter values: [-0.20460701  0.35480089]\n",
      "    + Log10-evidence: -74.97507 - Parameter values: [-0.21791489  0.347062  ]\n",
      "    + Log10-evidence: -74.96652 - Parameter values: [-0.21953173  0.33941864]\n",
      "    + Log10-evidence: -74.96260 - Parameter values: [-0.22648739  0.33586139]\n",
      "    + Log10-evidence: -74.95579 - Parameter values: [-0.22642717  0.32804913]\n",
      "    + Log10-evidence: -74.95012 - Parameter values: [-0.22747605  0.32030735]\n",
      "    + Log10-evidence: -74.94972 - Parameter values: [-0.23183807  0.313826  ]\n",
      "    + Log10-evidence: -74.94476 - Parameter values: [-0.22818709  0.31243706]\n",
      "    + Log10-evidence: -74.93981 - Parameter values: [-0.22205348  0.30759827]\n",
      "    + Log10-evidence: -74.94797 - Parameter values: [-0.21571672  0.31216781]\n",
      "    + Log10-evidence: -74.93463 - Parameter values: [-0.22363971  0.2999485 ]\n",
      "    + Log10-evidence: -74.93068 - Parameter values: [-0.22123414  0.29251557]\n",
      "    + Log10-evidence: -74.92647 - Parameter values: [-0.22439552  0.28537129]\n",
      "    + Log10-evidence: -74.92305 - Parameter values: [-0.22547625  0.2776339 ]\n",
      "    + Log10-evidence: -74.92678 - Parameter values: [-0.23171754  0.2729348 ]\n",
      "    + Log10-evidence: -74.92304 - Parameter values: [-0.21867277  0.27379362]\n",
      "    + Log10-evidence: -74.92038 - Parameter values: [-0.22058074  0.27038503]\n",
      "    + Log10-evidence: -74.91846 - Parameter values: [-0.2224925   0.26697858]\n",
      "    + Log10-evidence: -74.91711 - Parameter values: [-0.22372428  0.26327162]\n",
      "    + Log10-evidence: -74.91594 - Parameter values: [-0.22269705  0.25950286]\n",
      "    + Log10-evidence: -74.91484 - Parameter values: [-0.22373849  0.255738  ]\n",
      "    + Log10-evidence: -74.91385 - Parameter values: [-0.2233398   0.25185215]\n",
      "    + Log10-evidence: -74.91321 - Parameter values: [-0.22465019  0.24817225]\n",
      "    + Log10-evidence: -74.91254 - Parameter values: [-0.22230095  0.24505137]\n",
      "    + Log10-evidence: -74.91212 - Parameter values: [-0.22155855  0.24121632]\n",
      "    + Log10-evidence: -74.91429 - Parameter values: [-0.21792638  0.23977891]\n",
      "    + Log10-evidence: -74.91205 - Parameter values: [-0.22524306  0.23991896]\n",
      "    + Log10-evidence: -74.91172 - Parameter values: [-0.2249306   0.23799099]\n",
      "    + Log10-evidence: -74.91141 - Parameter values: [-0.22449406  0.23608727]\n",
      "    + Log10-evidence: -74.91119 - Parameter values: [-0.22415052  0.2341646 ]\n",
      "    + Log10-evidence: -74.91119 - Parameter values: [-0.22465387  0.23227745]\n",
      "    + Log10-evidence: -74.91102 - Parameter values: [-0.22367816  0.23223652]\n",
      "    + Log10-evidence: -74.91114 - Parameter values: [-0.22184677  0.23155776]\n",
      "    + Log10-evidence: -74.91105 - Parameter values: [-0.22341493  0.23317694]\n",
      "    + Log10-evidence: -74.91099 - Parameter values: [-0.22323996  0.23202113]\n",
      "    + Log10-evidence: -74.91098 - Parameter values: [-0.22291326  0.23165823]\n",
      "    + Log10-evidence: -74.91103 - Parameter values: [-0.22250844  0.23193124]\n",
      "    + Log10-evidence: -74.91096 - Parameter values: [-0.22322072  0.23127891]\n",
      "    + Log10-evidence: -74.91094 - Parameter values: [-0.22344227  0.23084378]\n",
      "    + Log10-evidence: -74.91092 - Parameter values: [-0.22319177  0.23042466]\n",
      "    + Log10-evidence: -74.91092 - Parameter values: [-0.22300139  0.22997502]\n",
      "    + Log10-evidence: -74.91091 - Parameter values: [-0.22340318  0.22969756]\n",
      "    + Log10-evidence: -74.91091 - Parameter values: [-0.22359843  0.22925002]\n",
      "    + Log10-evidence: -74.91092 - Parameter values: [-0.22362574  0.22979791]\n",
      "    + Log10-evidence: -74.91090 - Parameter values: [-0.22331126  0.22965818]\n",
      "    + Log10-evidence: -74.91090 - Parameter values: [-0.22321913  0.22961928]\n",
      "    + Log10-evidence: -74.91090 - Parameter values: [-0.22312139  0.22959815]\n",
      "    + Log10-evidence: -74.91090 - Parameter values: [-0.22319968  0.22966534]\n",
      "    + Log10-evidence: -74.91090 - Parameter values: [-0.22319262  0.22952285]\n",
      "    + Log10-evidence: -74.91090 - Parameter values: [-0.22320182  0.22942328]\n",
      "    + Log10-evidence: -74.91090 - Parameter values: [-0.22319833  0.22932334]\n",
      "    + Log10-evidence: -74.91089 - Parameter values: [-0.22324289  0.22923382]\n",
      "    + Log10-evidence: -74.91089 - Parameter values: [-0.22322927  0.22913475]\n",
      "    + Log10-evidence: -74.91089 - Parameter values: [-0.22322709  0.22903477]\n",
      "    + Log10-evidence: -74.91089 - Parameter values: [-0.22326426  0.22894194]\n",
      "    + Log10-evidence: -74.91089 - Parameter values: [-0.22322328  0.22885071]\n",
      "    + Log10-evidence: -74.91088 - Parameter values: [-0.22319605  0.22875449]\n",
      "    + Log10-evidence: -74.91088 - Parameter values: [-0.22322886  0.22866003]\n",
      "    + Log10-evidence: -74.91088 - Parameter values: [-0.22321891  0.22856053]\n",
      "    + Log10-evidence: -74.91088 - Parameter values: [-0.22322983  0.22846113]\n",
      "    + Log10-evidence: -74.91088 - Parameter values: [-0.22316925  0.22855468]\n",
      "    + Log10-evidence: -74.91088 - Parameter values: [-0.22324084  0.22846296]\n",
      "+ Finished optimization.\n",
      "+ Started new fit:\n",
      "    + Formatted data.\n",
      "    + Finished forward pass.\n",
      "    + Log10-evidence: -74.91088\n",
      "    + Finished backward pass.\n",
      "    + Computed mean parameter values.\n"
     ]
    },
    {
     "data": {
      "text/plain": [
       "<matplotlib.text.Text at 0x1bdc2b38>"
      ]
     },
     "execution_count": 2,
     "metadata": {},
     "output_type": "execute_result"
    },
    {
     "data": {
      "image/png": "[encoded data removed]",
      "text/plain": [
       "<matplotlib.figure.Figure at 0x6e71c50>"
      ]
     },
     "metadata": {},
     "output_type": "display_data"
    }
   ],
   "source": [
    "# define linear decrease transition model\n",
    "def linear(t, slope=-0.2):\n",
    "    return slope*t\n",
    "\n",
    "T = bl.tm.SerialTransitionModel(bl.tm.Static(),\n",
    "                                1885,\n",
    "                                bl.tm.Deterministic(linear, param='lambda'),\n",
    "                                1895,\n",
    "                                bl.tm.GaussianRandomWalk(sigma=0.1))\n",
    "S.setTransitionModel(T)\n",
    "\n",
    "S.optimize()\n",
    "\n",
    "plt.figure(figsize=(8, 4))\n",
    "plt.bar(S.rawTimestamps, S.rawData, align='center', facecolor='r', alpha=.5)\n",
    "S.plotParameterEvolution(param='lambda')\n",
    "plt.xlim([1851, 1962])\n",
    "plt.xlabel('year')"
   ]
  },
  {
   "cell_type": "markdown",
   "metadata": {},
   "source": [
    "The optimal value for the standard deviation of the varying disaster rate is determined to be $\\approx 0.23$, the initial guess of $\\sigma = 0.1$ is therefore too restrictive. The value of the slope is only optimized slightly, resulting in an optimal value of $\\approx -0.22$. The optimal hyper-parameter values are displayed in the output during optimization, but can also be inspected directly. Since we use a transition model that consists of multiple sub-models, we have to denote the corresponding sub-model of the hyper-parameter:"
   ]
  },
  {
   "cell_type": "code",
   "execution_count": 3,
   "metadata": {
    "collapsed": false
   },
   "outputs": [
    {
     "name": "stdout",
     "output_type": "stream",
     "text": [
      "-0.223240840865\n",
      "0.228462963828\n"
     ]
    }
   ],
   "source": [
    "print S.transitionModel.models[1].hyperParameters['slope']\n",
    "print S.transitionModel.models[2].hyperParameters['sigma']"
   ]
  },
  {
   "cell_type": "markdown",
   "metadata": {},
   "source": [
    "For a non-combined/non-serial transition model, the attribute `hyperParameters` can be accessed directly:"
   ]
  },
  {
   "cell_type": "code",
   "execution_count": 4,
   "metadata": {
    "collapsed": false
   },
   "outputs": [
    {
     "name": "stdout",
     "output_type": "stream",
     "text": [
      "+ Transition model: Gaussian random walk\n",
      "0.2\n"
     ]
    }
   ],
   "source": [
    "T = bl.transitionModels.GaussianRandomWalk(sigma=0.2)\n",
    "S.setTransitionModel(T)\n",
    "\n",
    "print S.transitionModel.hyperParameters['sigma']"
   ]
  },
  {
   "cell_type": "markdown",
   "metadata": {},
   "source": [
    "## 2. Conditional optimization in nested transition models\n",
    "\n",
    "The previous section introduced the `optimize` method of the `Study` class. By default, all (continuous) hyper-parameters of the chosen transition model are optimized. In some applications, however, only specific hyper-parameters may be subject to optimization. Therefore, a list of parameter names (or a single name) may be passed to `optimize`, specifying which parameters to optmize. This fairly straight-forward way of specifying the hyper-parameters of interest gets more complicated for nested transition models with multiple hyper-parameters that share an identical name. An example for such a (quite ridiculously) nested transition model is defined below. Note that the deterministic transition models are defined via `lambda` functions."
   ]
  },
  {
   "cell_type": "code",
   "execution_count": 6,
   "metadata": {
    "collapsed": false
   },
   "outputs": [
    {
     "name": "stdout",
     "output_type": "stream",
     "text": [
      "+ Transition model: Serial transition model\n"
     ]
    }
   ],
   "source": [
    "T = bl.tm.SerialTransitionModel(bl.tm.CombinedTransitionModel(\n",
    "                                    bl.tm.GaussianRandomWalk(sigma=0.05),\n",
    "                                    bl.tm.RegimeSwitch(log10pMin=-7)\n",
    "                                    ),\n",
    "                                1885,\n",
    "                                bl.tm.Deterministic(lambda t, slope=-0.2: slope*t),\n",
    "                                1895,\n",
    "                                bl.tm.CombinedTransitionModel(\n",
    "                                    bl.tm.GaussianRandomWalk(sigma=0.25),\n",
    "                                    bl.tm.Deterministic(lambda t, slope=0.0: slope*t)\n",
    "                                    )\n",
    "                                )\n",
    "S.setTransitionModel(T)"
   ]
  },
  {
   "cell_type": "markdown",
   "metadata": {},
   "source": [
    "This transition model assumes a combination of gradual and abrupt changes until 1885, followed by a deterministic decrease of the annual disaster rate until 1895. Afterwards, the disaster rate is modeled by a combination of a decreasing trend and random fluctuations. Instead of discussing exactly how meaningful the proposed transition model really is, we focus on how to specify different (groups of) hyper-parameters that we might want to optimize.\n",
    "\n",
    "All hyper-parameter names that occur only once within the transition model may simply be stated by their name: `S.optimize('log10pMin')`. Note that you may also pass a single hyper-parameter as a list: `S.optimize(['log10pMin'])`.\n",
    "\n",
    "In case a parameter name occurs multiple times, *bayesloop* selects them in the order that they appear in. `S.optimize('sigma')` will only optimize the first occurrence of `sigma` (before 1885), while `S.optimize(['sigma', 'sigma'])` will optimize both hyper-parameters of the gaussian random walks.\n",
    "\n",
    "Additional notation is needed in the case that only the second (or third, forth, ...) occurrence of a hyper-parameter name is to be optimized. Here, you have to specify the sub-model to which the hyper-parameter of interest belongs to. Suppose you want to optimize the `slope` parameter after 1895. This hyper-parameter is part of the __third sub-model of the serial transition model__, as it describes a part of the parameter dynamics after 1895. However, the third sub-model of the serial transition model is itself a combined transition model. The `Linear model` that contains the `slope` hyper-parameter represents the __second sub-sub-model of the combined sub-model__. We can thus optimize this hyper-parameter by calling:"
   ]
  },
  {
   "cell_type": "code",
   "execution_count": 7,
   "metadata": {
    "collapsed": false
   },
   "outputs": [
    {
     "name": "stdout",
     "output_type": "stream",
     "text": [
      "+ Starting optimization...\n",
      "  --> Parameter(s) to optimize: ['slope_3_2']\n",
      "    + Log10-evidence: -75.00580 - Parameter values: [ 0.]\n",
      "    + Log10-evidence: -96.07110 - Parameter values: [ 1.]\n",
      "    + Log10-evidence: -83.20553 - Parameter values: [-1.]\n",
      "    + Log10-evidence: -88.03637 - Parameter values: [-0.5]\n",
      "    + Log10-evidence: -85.05530 - Parameter values: [ 0.25]\n",
      "    + Log10-evidence: -75.50025 - Parameter values: [-0.125]\n",
      "    + Log10-evidence: -76.22437 - Parameter values: [ 0.0625]\n",
      "    + Log10-evidence: -74.78788 - Parameter values: [-0.03125]\n",
      "    + Log10-evidence: -74.81242 - Parameter values: [-0.0625]\n",
      "    + Log10-evidence: -74.77108 - Parameter values: [-0.046875]\n",
      "    + Log10-evidence: -74.81242 - Parameter values: [-0.0625]\n",
      "    + Log10-evidence: -74.78465 - Parameter values: [-0.0546875]\n",
      "    + Log10-evidence: -74.76973 - Parameter values: [-0.04296875]\n",
      "    + Log10-evidence: -74.77205 - Parameter values: [-0.0390625]\n",
      "    + Log10-evidence: -74.77042 - Parameter values: [-0.04101562]\n",
      "    + Log10-evidence: -74.76972 - Parameter values: [-0.04394531]\n",
      "    + Log10-evidence: -74.76981 - Parameter values: [-0.04443359]\n",
      "    + Log10-evidence: -74.76970 - Parameter values: [-0.04370117]\n",
      "    + Log10-evidence: -74.76969 - Parameter values: [-0.04345703]\n",
      "    + Log10-evidence: -74.76970 - Parameter values: [-0.04321289]\n",
      "    + Log10-evidence: -74.76970 - Parameter values: [-0.04335703]\n",
      "    + Log10-evidence: -74.76970 - Parameter values: [-0.04355703]\n",
      "+ Finished optimization.\n",
      "+ Started new fit:\n",
      "    + Formatted data.\n",
      "    + Finished forward pass.\n",
      "    + Log10-evidence: -74.76970\n",
      "    + Finished backward pass.\n",
      "    + Computed mean parameter values.\n"
     ]
    }
   ],
   "source": [
    "S.optimize(['slope_3_2'])"
   ]
  },
  {
   "cell_type": "markdown",
   "metadata": {},
   "source": [
    "This method of indexing hyper-parameters works for arbitrily nested transition models and can also be used by the extended study-classes `HyperStudy` and `ChangepointStudy`, which are described in detail in XX4 and XX5, respectively."
   ]
  }
 ],
 "metadata": {
  "kernelspec": {
   "display_name": "Python 2",
   "language": "python",
   "name": "python2"
  },
  "language_info": {
   "codemirror_mode": {
    "name": "ipython",
    "version": 2
   },
   "file_extension": ".py",
   "mimetype": "text/x-python",
   "name": "python",
   "nbconvert_exporter": "python",
   "pygments_lexer": "ipython2",
   "version": "2.7.10"
  }
 },
 "nbformat": 4,
 "nbformat_minor": 0
}
