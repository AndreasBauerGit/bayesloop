{
 "cells": [
  {
   "cell_type": "markdown",
   "metadata": {},
   "source": [
    "# Multiprocessing\n",
    "\n",
    "Conducting extensive data studies based on the `HyperStudy` or `ChangepointStudy` classes may involve several 10.000 or 100.000 individual fits (see e.g. XX5.2). Since these individual fits with different hyper-parameter values are independent of each other, the computational workload may be distributed among the individual cores of a multi-core processor. To keep things simple, *bayesloop* uses [object serialization](https://docs.python.org/2/library/pickle.html) to create duplicates of the current `HyperStudy` or `ChangepointStudy` instance and distributes them across the pre-defined number of cores. In general, this procedure may be handled by the built-in Python module [multiprocessing](https://docs.python.org/2/library/multiprocessing.html). However, *multiprocessing* relies on the built-in module [pickle](https://docs.python.org/2/library/pickle.html) for object serialization, which fails to serialize the classes defined in *bayesloop*. We therefore use a different version of the *multiprocessing* module that is part of the [pathos](https://github.com/uqfoundation/pathos) module.\n",
    "\n",
    "The latest version of *pathos* can be installed directly via [pip](https://pypi.python.org/pypi/pip), but requires [git](https://de.wikipedia.org/wiki/Git):\n",
    "```\n",
    "pip install git+https://github.com/uqfoundation/pathos\n",
    "```\n",
    "**Note**: Windows users need to install a C compiler *before* installing pathos. One possible solution for 64bit systems is to install [Microsoft Visual C++ 2008 SP1 Redistributable Package (x64)](http://www.microsoft.com/en-us/download/confirmation.aspx?id=2092) and [Microsoft Visual C++ Compiler for Python 2.7](http://www.microsoft.com/en-us/download/details.aspx?id=44266).\n",
    "\n",
    "Once installed correctly, the number of cores to use in a hyper-study or change-point study can be specified by using the keyword argument `nJobs` within the `fit` method. Example (from XX5.2):\n",
    "```\n",
    "CPS.fit(silent=True, nJobs=4)\n",
    "```"
   ]
  }
 ],
 "metadata": {
  "kernelspec": {
   "display_name": "Python 2",
   "language": "python",
   "name": "python2"
  },
  "language_info": {
   "codemirror_mode": {
    "name": "ipython",
    "version": 2
   },
   "file_extension": ".py",
   "mimetype": "text/x-python",
   "name": "python",
   "nbconvert_exporter": "python",
   "pygments_lexer": "ipython2",
   "version": "2.7.10"
  }
 },
 "nbformat": 4,
 "nbformat_minor": 0
}
