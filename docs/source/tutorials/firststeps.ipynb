{
 "cells": [
  {
   "cell_type": "markdown",
   "metadata": {},
   "source": [
    "# First steps with bayesloop\n",
    "\n",
    "The first section of the tutorial introduces the main class of the module, `Study`. We provide a detailed description of how to import data, set the observation model and transition model, specify the parameter grid and perform the model fit. Finally, a plotting function to display the results is discussed briefly.\n",
    "\n",
    "## Study class\n",
    "To start a new data study/analysis, create a new instance of the `Study` class:"
   ]
  },
  {
   "cell_type": "code",
   "execution_count": 1,
   "metadata": {
    "collapsed": false
   },
   "outputs": [
    {
     "name": "stderr",
     "output_type": "stream",
     "text": [
      "C:\\Anaconda\\lib\\site-packages\\matplotlib\\__init__.py:872: UserWarning: axes.color_cycle is deprecated and replaced with axes.prop_cycle; please use the latter.\n",
      "  warnings.warn(self.msg_depr % (key, alt_key))\n"
     ]
    },
    {
     "name": "stdout",
     "output_type": "stream",
     "text": [
      "+ Created new study.\n"
     ]
    }
   ],
   "source": [
    "%matplotlib inline\n",
    "import matplotlib.pyplot as plt # plotting\n",
    "import seaborn as sns           # nicer plots\n",
    "sns.set_style('whitegrid')      # plot styling\n",
    "\n",
    "import bayesloop as bl\n",
    "\n",
    "S = bl.Study()"
   ]
  },
  {
   "cell_type": "markdown",
   "metadata": {},
   "source": [
    "This object is central to an analysis conducted with *bayesloop*. It stores the data and further provides the methods to perform probabilistic inference on the models defined within the class, as described below.\n",
    "\n",
    "## Data import\n",
    "In this first study, we use a simple, yet instructive example of heterogeneous time series, the annual number of coal mining accidents in the UK from 1851 to 1962. The data is imported as a NumPy array, together with corresponding timestamps. Note that setting timestamps is optional (if none are provided, timestamps are set to an integer sequence: 0, 1, 2,...)."
   ]
  },
  {
   "cell_type": "code",
   "execution_count": 2,
   "metadata": {
    "collapsed": false
   },
   "outputs": [
    {
     "name": "stdout",
     "output_type": "stream",
     "text": [
      "+ Successfully imported array.\n"
     ]
    }
   ],
   "source": [
    "import numpy as np\n",
    "\n",
    "data = np.array([5, 4, 1, 0, 4, 3, 4, 0, 6, 3, 3, 4, 0, 2, 6, 3, 3, 5, 4, 5, 3, 1, 4,\n",
    "                 4, 1, 5, 5, 3, 4, 2, 5, 2, 2, 3, 4, 2, 1, 3, 2, 2, 1, 1, 1, 1, 3, 0,\n",
    "                 0, 1, 0, 1, 1, 0, 0, 3, 1, 0, 3, 2, 2, 0, 1, 1, 1, 0, 1, 0, 1, 0, 0,\n",
    "                 0, 2, 1, 0, 0, 0, 1, 1, 0, 2, 3, 3, 1, 1, 2, 1, 1, 1, 1, 2, 3, 3, 0,\n",
    "                 0, 0, 1, 4, 0, 0, 0, 1, 0, 0, 0, 0, 0, 1, 0, 0, 1, 0])\n",
    "\n",
    "S.loadData(data, timestamps=np.arange(1852, 1962))"
   ]
  },
  {
   "cell_type": "markdown",
   "metadata": {},
   "source": [
    "Note that this particular data set is also hard-coded into the `Study` class, for convenient testing:"
   ]
  },
  {
   "cell_type": "code",
   "execution_count": 3,
   "metadata": {
    "collapsed": false
   },
   "outputs": [
    {
     "name": "stdout",
     "output_type": "stream",
     "text": [
      "+ Successfully imported example data.\n"
     ]
    }
   ],
   "source": [
    "S.loadExampleData()"
   ]
  },
  {
   "cell_type": "markdown",
   "metadata": {},
   "source": [
    "In case you have multiple observations for each time step, you may also provide the data in the form `np.array([[x1,y1,z1], [x2,y2,z2], ..., [xn,yn,zn]])`. Missing data points should be included as `np.nan`.\n",
    "\n",
    "## Observation model\n",
    "The first step to create a probabilistic model to explain the data is to define the **observation model**, or **likelihood**. The observation model states the probability (density) of a data point at time $t$, given the parameter values at time $t$ and possibly past data points.\n",
    "\n",
    "As coal mining disasters fortunately are rare events, we may model the number of accidents per year by a [Poisson](https://en.wikipedia.org/wiki/Poisson_distribution) distribution (data from subsequent years is assumed to be uncorrelated):"
   ]
  },
  {
   "cell_type": "code",
   "execution_count": 4,
   "metadata": {
    "collapsed": false
   },
   "outputs": [
    {
     "name": "stdout",
     "output_type": "stream",
     "text": [
      "+ Observation model: Poisson. Parameter(s): ['lambda']\n"
     ]
    }
   ],
   "source": [
    "L = bl.observationModels.Poisson()\n",
    "S.setObservationModel(L)"
   ]
  },
  {
   "cell_type": "markdown",
   "metadata": {},
   "source": [
    "Note that you can also use the following short form to define observation models: `M = bl.om.Poisson()`. All currently implemented observation models can be looked up in `observationModels.py`. *bayesloop* further supports all probability distributions that are included in the [scipy.stats](http://docs.scipy.org/doc/scipy/reference/stats.html) as well as the [sympy.stats](http://docs.sympy.org/dev/modules/stats.html) module. See [Sect. 8](#section_8) for instructions on how to build custom observation models from arbitrary distributions.\n",
    "\n",
    "## Transition model\n",
    "As the dynamics of many real-world systems are the result of a multitude of underlying processes that act on different spatial and time scales, common statistical models with static parameters often miss important aspects of the systems' dynamics (see e.g. this [article](http://www.nature.com/articles/ncomms8516)). *bayesloop* therefore calls for a second model, the **transition model**, which describes the temporal changes of the model parameters.\n",
    "\n",
    "As stated above, we model the observed data by a Poisson distribution with one parameter, the rate $\\lambda$ (decribing the average number of disasters per year). While the list of parameters of the chosen observation model is displayed on definition, you may also retrieve it directly:"
   ]
  },
  {
   "cell_type": "code",
   "execution_count": 5,
   "metadata": {
    "collapsed": false
   },
   "outputs": [
    {
     "data": {
      "text/plain": [
       "['lambda']"
      ]
     },
     "execution_count": 5,
     "metadata": {},
     "output_type": "execute_result"
    }
   ],
   "source": [
    "L.parameterNames"
   ]
  },
  {
   "cell_type": "markdown",
   "metadata": {},
   "source": [
    "In this example, we assume that $\\lambda$ itself may change gradually over time and choose a Gaussian random walk with the standard deviation $\\sigma=0.2$ as transition model. The value of the Hyper-parameter $\\sigma$ is set from the beginning, but can be optimized (see [Sect. 3](#section_3))."
   ]
  },
  {
   "cell_type": "code",
   "execution_count": 6,
   "metadata": {
    "collapsed": false
   },
   "outputs": [
    {
     "name": "stdout",
     "output_type": "stream",
     "text": [
      "+ Transition model: Gaussian random walk\n"
     ]
    }
   ],
   "source": [
    "T = bl.transitionModels.GaussianRandomWalk(sigma=0.3)\n",
    "S.setTransitionModel(T)"
   ]
  },
  {
   "cell_type": "markdown",
   "metadata": {},
   "source": [
    "Note that you can also use the following short form to define transition models: `M = bl.tm.GaussianRandomWalk()`. All currently implemented transition models can be looked up in `transitionModels.py`.\n",
    "\n",
    "## Parameter grid\n",
    "While many inference algorithms designed for hierarchical time series analysis rely on [MCMC](http://www.cs.ubc.ca/~arnaud/andrieu_defreitas_doucet_jordan_intromontecarlomachinelearning.pdf) techniques, *bayesloop* chooses a grid-based approach. All probability distributions are discretized on a regular grid of parameter values. While this approach restricts the choice of observation models to those with only few parameters, it allows to perform very fast probabilistic inference, model selection and model optimization.\n",
    "\n",
    "The parameter grid has be configured prior to calling any fit- or optimization-routine. First, the grid size has to be set for each parameter (here, only $\\lambda$):"
   ]
  },
  {
   "cell_type": "code",
   "execution_count": 7,
   "metadata": {
    "collapsed": false
   },
   "outputs": [
    {
     "name": "stdout",
     "output_type": "stream",
     "text": [
      "+ Grid size: [1000]\n"
     ]
    }
   ],
   "source": [
    "S.setGridSize([1000])"
   ]
  },
  {
   "cell_type": "markdown",
   "metadata": {},
   "source": [
    "Second, parameter boundaries have to be set. One has to provide a list of lists, where each inner list consists of a lower and an upper boundary value. Note that choosing the boundaries to narrow may negatively affect the outcome of the analysis. In case the inferred parameter values come close to the boundary values, one should consider re-running the analysis with looser boundaries.\n",
    "\n",
    "In our example, we restrict the annual disaster rate to the interval $[0,6]$. We will see that this is sufficient when plotting the results below."
   ]
  },
  {
   "cell_type": "code",
   "execution_count": 8,
   "metadata": {
    "collapsed": false
   },
   "outputs": [
    {
     "name": "stdout",
     "output_type": "stream",
     "text": [
      "+ Boundaries: [[0, 6]]\n"
     ]
    }
   ],
   "source": [
    "S.setBoundaries([[0, 6]])"
   ]
  },
  {
   "cell_type": "markdown",
   "metadata": {},
   "source": [
    "Note that if you do not provide a proper grid size, *bayesloop* will set it automatically to the default value stored in each observation model. In case no parameter boundaries are given, *bayesloop* will try to estimate suitable values based on the data set at hand, at least for the subset of the implemented observation models for which such an estimation is easily possible.\n",
    "\n",
    "Instead of specifying grid size and parameter boundaries by separate calls of `setGridSize` and `setBoundaries`, the parameter grid can also be specified by a single call of the method `setGrid`:"
   ]
  },
  {
   "cell_type": "code",
   "execution_count": 9,
   "metadata": {
    "collapsed": false
   },
   "outputs": [
    {
     "name": "stdout",
     "output_type": "stream",
     "text": [
      "+ Boundaries: [[0, 6]]\n",
      "+ Grid size: [1000]\n"
     ]
    }
   ],
   "source": [
    "S.setGrid([[0, 6, 1000]])"
   ]
  },
  {
   "cell_type": "markdown",
   "metadata": {},
   "source": [
    "## Model fit\n",
    "\n",
    "At this point, the hierarchical time series model for the coal mining data set is properly defined and we may continue to perform the model fit. *bayesloop* employs a forward-backward algorithm that is based on [Hidden Markov models](http://www.cs.sjsu.edu/~stamp/RUA/HMM.pdf). The inference algorithm is implemented by the `fit` method:"
   ]
  },
  {
   "cell_type": "code",
   "execution_count": 10,
   "metadata": {
    "collapsed": false
   },
   "outputs": [
    {
     "name": "stdout",
     "output_type": "stream",
     "text": [
      "+ Started new fit:\n",
      "    + Formatted data.\n",
      "    + Finished forward pass.\n",
      "    + Log10-evidence: -76.63002\n",
      "    + Finished backward pass.\n",
      "    + Computed mean parameter values.\n"
     ]
    }
   ],
   "source": [
    "S.fit()"
   ]
  },
  {
   "cell_type": "markdown",
   "metadata": {},
   "source": [
    "By default, `fit` computes the so-called *smoothing distribution* of the model parameters for each time step. This distribution states the probability (density) of the parameter value at a time step $t$, given all past and future data points. All distributions have the same shape as the parameter grid, and are stored in `S.posteriorSequence` for further analysis. Additionally, the mean values of each distribution are stored in `S.posteriorMeanValues`, as point estimates. Finally, the (natural) logarithmic value of the evidence, the probability of the data given the chosen model, is stored in `S.logEvidence` (see [Sect. 2](#section_2)). \n",
    "\n",
    "To simulate an online-analysis, where at each step in time $t$, only past data points are available, one may provide the keyword-argument `forwardOnly=True`. In this case, only the *forward*-part of the algorithm in run. The resulting parameter distributions are called *filtering distributions*.\n",
    "\n",
    "## Plotting\n",
    "To display the temporal evolution of the model parameters, the `Study` class provides a simple plot method `plotParameterEvolution` that displays the mean values together with the marginal distributions for one parameter of the model. The parameter to be plotted can be chosen by providing an index or the name of the parameter (by default, the first one is plotted).\n",
    "\n",
    "Here, we plot the original data (in red) together with the inferred disaster rate (mean value in black). The marginal parameter distribution is displayed as a blue overlay, by default with a gamma correction of $\\gamma=0.5$ to enhance relative differences in the width of the distribution (this behavior can be changed by the keyword argument `gamma`):"
   ]
  },
  {
   "cell_type": "code",
   "execution_count": 11,
   "metadata": {
    "collapsed": false
   },
   "outputs": [
    {
     "data": {
      "text/plain": [
       "<matplotlib.text.Text at 0x1bee1908>"
      ]
     },
     "execution_count": 11,
     "metadata": {},
     "output_type": "execute_result"
    },
    {
     "data": {
      "image/png": "[encoded data removed]",
      "text/plain": [
       "<matplotlib.figure.Figure at 0x1bed9748>"
      ]
     },
     "metadata": {},
     "output_type": "display_data"
    }
   ],
   "source": [
    "plt.figure(figsize=(8, 4))\n",
    "\n",
    "# plot of raw data\n",
    "plt.bar(S.rawTimestamps, S.rawData, align='center', facecolor='r', alpha=.5)\n",
    "\n",
    "# parameter plot\n",
    "S.plotParameterEvolution(param='lambda')\n",
    "\n",
    "plt.xlim([1851, 1961])\n",
    "plt.xlabel('year')"
   ]
  },
  {
   "cell_type": "markdown",
   "metadata": {},
   "source": [
    "From this first analysis, we may conclude that before 1880, an average of $\\approx 3$ accidents were recorded. This changes significantly between 1880 and 1900, when the accident-rate drops to $\\approx 1$. Studies like this one may in the future help to objectively quantify the effects of policies, like safety regulations.\n",
    "\n",
    "## Saving studies\n",
    "As the `Study` class instance (above denoted by `S`) of a conducted analysis contains all information about the inferred parameter values, it may be convenient to store the entire instance `S` to file. This way, it can be loaded again later, for example to refine the study, create different plots or perform further analyses based on the obtained results. *bayesloop* provides two functions, `bl.save()` and `bl.load()` to store and retrieve existing studies. To be able to use these functions, the module [dill](https://pypi.python.org/pypi/dill) (an extension to the Python module [pickle](https://docs.python.org/2/library/pickle.html)) has to be installed. An easy way to obtain dill is by using the package manager [pip](https://pypi.python.org/pypi/pip):\n",
    "```\n",
    "pip install dill\n",
    "```\n",
    "Note that saving studies to file is considered an optional feature, so dill is not installed as a requirement when installing *bayesloop*."
   ]
  }
 ],
 "metadata": {
  "kernelspec": {
   "display_name": "Python 2",
   "language": "python",
   "name": "python2"
  },
  "language_info": {
   "codemirror_mode": {
    "name": "ipython",
    "version": 2
   },
   "file_extension": ".py",
   "mimetype": "text/x-python",
   "name": "python",
   "nbconvert_exporter": "python",
   "pygments_lexer": "ipython2",
   "version": "2.7.10"
  }
 },
 "nbformat": 4,
 "nbformat_minor": 0
}
